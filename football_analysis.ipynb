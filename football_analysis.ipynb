{
 "cells": [
  {
   "cell_type": "markdown",
   "id": "5001842a",
   "metadata": {},
   "source": [
    "# Football Data Analysis – 2023/24 EPL"
   ]
  },
  {
   "cell_type": "code",
   "execution_count": null,
   "id": "164cd732",
   "metadata": {},
   "outputs": [],
   "source": [
    "import pandas as pd\n",
    "import matplotlib.pyplot as plt\n",
    "\n",
    "df = pd.read_csv('football_players_stats.csv')\n",
    "df.head()"
   ]
  },
  {
   "cell_type": "markdown",
   "id": "e6e41ff2",
   "metadata": {},
   "source": [
    "## Basic Summary"
   ]
  },
  {
   "cell_type": "code",
   "execution_count": null,
   "id": "963101f7",
   "metadata": {},
   "outputs": [],
   "source": [
    "df.describe(include='all')"
   ]
  },
  {
   "cell_type": "markdown",
   "id": "b0e33a58",
   "metadata": {},
   "source": [
    "## Goals per Player"
   ]
  },
  {
   "cell_type": "code",
   "execution_count": null,
   "id": "e500a51c",
   "metadata": {},
   "outputs": [],
   "source": [
    "top = df.sort_values('goals', ascending=False).head(10)\n",
    "plt.bar(top['player'], top['goals'])\n",
    "plt.xticks(rotation=45)\n",
    "plt.title('Top Scorers – 2023/24 EPL')\n",
    "plt.show()"
   ]
  }
 ],
 "metadata": {},
 "nbformat": 4,
 "nbformat_minor": 5
}
